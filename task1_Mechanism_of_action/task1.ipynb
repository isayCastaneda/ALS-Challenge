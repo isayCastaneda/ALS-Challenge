{
 "cells": [
  {
   "cell_type": "code",
   "execution_count": null,
   "id": "a176e8c0",
   "metadata": {},
   "outputs": [],
   "source": [
    "install.packages(\"BiocManager\")\n",
    "BiocManager::install(\"org.Hs.eg.db\")\n",
    "BiocManager::install(\"edgeR\")\n",
    "BiocManager::install(\"limma\")\n",
    "BiocManager::install(\"Glimma\")"
   ]
  },
  {
   "cell_type": "code",
   "execution_count": null,
   "id": "9cbdb406",
   "metadata": {},
   "outputs": [],
   "source": [
    "# Load librarys\n",
    "library(\"gplots\")\n",
    "library('edgeR')\n",
    "library('limma')\n",
    "library('Glimma')\n",
    "library('ggplot2')\n",
    "library('RColorBrewer')\n",
    "library('org.Hs.eg.db')\n",
    "library(\"dplyr\")\n",
    "library(\"gplots\")"
   ]
  },
  {
   "cell_type": "code",
   "execution_count": null,
   "id": "5569e52e",
   "metadata": {},
   "outputs": [],
   "source": [
    "# Explore control vs cases Data to kwnow what is the bestway  to process data\n",
    "ctrl_vs_cases_transcrip_data <- read.csv('../input/end-als/end-als/transcriptomics-data/DESeq2/ctrl_vs_case.csv')"
   ]
  },
  {
   "cell_type": "code",
   "execution_count": null,
   "id": "1fae9f2c",
   "metadata": {},
   "outputs": [],
   "source": [
    "# Getting ctrl vs case group\n",
    "ctrl_vs_cases_group <- factor(ctrl_vs_cases_transcrip_data$CtrlVsCase_Classifier)\n",
    "# Delete ctrl vs cases from original dataset \n",
    "ctrl_vs_cases_procces <- subset(ctrl_vs_cases_transcrip_data, select= -c(2))\n",
    "# Transpose data to have id in columns\n",
    "ctrl_vs_cases_procces <- t(ctrl_vs_cases_procces)\n",
    "# Change the columns names for the ids\n",
    "colnames(ctrl_vs_cases_procces) <- ctrl_vs_cases_procces[1, ]\n",
    "# Delete  ids from the first row \n",
    "ctrl_vs_cases_procces <- ctrl_vs_cases_procces[-c(1), ]\n",
    "# set rows names to add later to df\n",
    "genes_names <- rownames(ctrl_vs_cases_procces)\n",
    "ctrl_vs_cases_procces <- data.frame(ctrl_vs_cases_procces)\n",
    "# changing the type data chart to numeric\n",
    "ctrl_vs_cases_procces <- as.data.frame(sapply(ctrl_vs_cases_procces, as.numeric))\n",
    "# Set row names genes to the new data colletion\n",
    "rownames(ctrl_vs_cases_procces) <- genes_names"
   ]
  },
  {
   "cell_type": "code",
   "execution_count": null,
   "id": "5d326e2b",
   "metadata": {},
   "outputs": [],
   "source": [
    "# DGEList to run MDS\n",
    "ctrl_vs_cases_procces_dglist <- DGEList(counts = as.matrix(ctrl_vs_cases_procces), group = ctrl_vs_cases_group)\n",
    "#plot MDS \n",
    "plotMDS(ctrl_vs_cases_procces_dglist, col=as.numeric(ctrl_vs_cases_procces_dglist$samples$group))\n",
    "legend(\"bottomleft\", as.character(unique(ctrl_vs_cases_procces_dglist$samples$group)), col=1:3, pch=20)\n",
    "#  CTRL VS CASES DESq2 Data MDS"
   ]
  },
  {
   "cell_type": "code",
   "execution_count": null,
   "id": "63119dc2",
   "metadata": {},
   "outputs": [],
   "source": [
    "# Reading principal path L3 counts data to extrac txt files\n",
    "l3_count_main_path <- \"../input/end-als/end-als/transcriptomics-data/L3_counts\"\n",
    "# List of folder in L3_counts\n",
    "l3_count_main_path_list <- list.files(path = l3_count_main_path)\n",
    "# Declare variable just for concatenate txt files\n",
    "all_transcriptomic_counts <- \"Principal\"\n",
    "flag <- TRUE\n",
    "for (folder in l3_count_main_path_list){\n",
    "    # Get sub-folder path\n",
    "    subfolder <- list.files(path=paste(l3_count_main_path, folder, sep='/'))\n",
    "    # If the folder contains more than one file the is excluded\n",
    "    if (length(subfolder) > 1){\n",
    "        next\n",
    "    }\n",
    "    # Read last file this path contain the name of .txt file\n",
    "    exon_txt_file <- list.files(path=paste(l3_count_main_path, folder, subfolder, sep='/'))\n",
    "    # Concatenate all path to read csv\n",
    "    complete_l3_count_path <- paste(l3_count_main_path, folder, subfolder, exon_txt_file, sep='/')\n",
    "    \n",
    "    # Reading exo.txt file\n",
    "    l3_counts_per_id <- read.table(complete_l3_count_path, sep = \"\\t\", header=TRUE)\n",
    "    # Select genes columns and counts\n",
    "    l3_counts_per_id <- subset(l3_counts_per_id, select=(c(1,7)))\n",
    "    # Change the name of columns for genes for genes and counts per id\n",
    "    colnames(l3_counts_per_id) <- c(\"genes\", folder)\n",
    "    # If is the first iterarion then enter into if and save file in all_transcript_count to by concacatenate later\n",
    "    if(flag){\n",
    "        flag<- FALSE\n",
    "        all_transcriptomic_counts <- l3_counts_per_id\n",
    "        next\n",
    "    }\n",
    "    # Join all count in single file\n",
    "    all_transcriptomic_counts <- left_join(x = all_transcriptomic_counts, y = l3_counts_per_id, by = \"genes\", all.x = TRUE)\n",
    "}\n",
    "# Write csv file of raw counts\n",
    "write.csv(all_transcriptomic_counts, \"raw_L3counts_data.csv\")"
   ]
  },
  {
   "cell_type": "code",
   "execution_count": null,
   "id": "da0df153",
   "metadata": {},
   "outputs": [],
   "source": [
    "# To performance MDS with color by case and ctrl is necesario get the groups from clinical data portal data\n",
    "clinical_data_portal <- read.csv('../input/end-als/end-als/clinical-data/filtered-metadata/metadata/aals_dataportal_datatable.csv')\n",
    "# Creating dataframe just with data that we need\n",
    "clinical_data_portal_subset <- data.frame(clinical_data_portal$Participant_ID, clinical_data_portal$Sex,\n",
    "                                         clinical_data_portal$Race, clinical_data_portal$Subject.Group, \n",
    "                                         clinical_data_portal$Site.of.Onset, clinical_data_portal$NEFH..SMI32.,\n",
    "                                         clinical_data_portal$ISL1, clinical_data_portal$`NKX6.1`, \n",
    "                                         clinical_data_portal$TUBB3..TuJ1., clinical_data_portal$s100b)\n",
    "# Change col names\n",
    "colnames(clinical_data_portal_subset) <- c(\"Participant_ID\", \"Sex\", \"Race\", \"SubjectGroup\", \"SiteOfOnset\", \"NEFH\",\n",
    "                                          \"ISL1\", \"NKX6\", \"TUBB3\", \"s100b\")\n",
    "# Transpose data to join data portal and raw counts data\n",
    "all_transcriptomic_counts_transpose <- t(all_transcriptomic_counts)\n",
    "# Change the columns names for the ids\n",
    "colnames(all_transcriptomic_counts_transpose) <- all_transcriptomic_counts_transpose[1, ]\n",
    "# Delete  ids from the first row \n",
    "all_transcriptomic_counts_transpose <- data.frame(all_transcriptomic_counts_transpose[-c(1), ])\n",
    "# set participant Id as columns\n",
    "all_transcriptomic_counts_transpose$Participant_ID <- rownames(all_transcriptomic_counts_transpose)\n",
    "# Join raw counts and data portal \n",
    "all_transcriptomic_counts_and_data_portal <- left_join(x = all_transcriptomic_counts_transpose, \n",
    "                                       y = clinical_data_portal_subset, by = \"Participant_ID\", all.x = TRUE)\n",
    "\n",
    "# Save transcripts groups to use latter in Difererntial expression analysis\n",
    "transcripts_groups <- all_transcriptomic_counts_and_data_portal[c(\"Participant_ID\", \"Sex\", \"Race\", \n",
    "                                                                 \"SubjectGroup\", \"SiteOfOnset\", \"NEFH\",\n",
    "                                                                 \"ISL1\", \"NKX6\", \"TUBB3\", \"s100b\")]\n",
    "\n",
    "transcripts_groups$SubjectGroup[which(transcripts_groups$SubjectGroup != \"Healthy Control\")]  <- \"ALS\"\n",
    "# Delete columns from raw counts\n",
    "all_transcriptomic_counts_and_data_portal <- subset(all_transcriptomic_counts_and_data_portal, select=-c( Sex, Race, \n",
    "                                                                 SubjectGroup, SiteOfOnset, NEFH,\n",
    "                                                                 ISL1, NKX6, TUBB3, s100b))"
   ]
  },
  {
   "cell_type": "code",
   "execution_count": null,
   "id": "54b11f3f",
   "metadata": {},
   "outputs": [],
   "source": [
    "# report process to transpose data\n",
    "# Transpose data to have id in columns\n",
    "all_transcriptomic_counts_and_data_portal <- t(all_transcriptomic_counts_and_data_portal)\n",
    "# Change the columns names for  ids patinets\n",
    "colnames(all_transcriptomic_counts_and_data_portal) <- all_transcriptomic_counts_and_data_portal[60676, ]\n",
    "# Delete  ids from the last row \n",
    "all_transcriptomic_counts_and_data_portal <- all_transcriptomic_counts_and_data_portal[-c(60676), ]\n",
    "# Convert matrix to data frame\n",
    "all_transcriptomic_counts_and_data_portal <- data.frame(all_transcriptomic_counts_and_data_portal)\n",
    "# Set genes ids\n",
    "genes_id <- rownames(all_transcriptomic_counts_and_data_portal)\n",
    "# # changing the type data chart to numeric\n",
    "all_transcriptomic_counts_and_data_portal <- as.data.frame(lapply(data.frame(lapply(all_transcriptomic_counts_and_data_portal, as.character), stringsAsFactors=FALSE), as.numeric))\n",
    "# Set row names genes to the new data colletion\n",
    "rownames(all_transcriptomic_counts_and_data_portal) <- genes_id"
   ]
  },
  {
   "cell_type": "code",
   "execution_count": null,
   "id": "f319fb96",
   "metadata": {},
   "outputs": [],
   "source": [
    "# change group type factor to character\n",
    "transcripts_groups$Sex <-  as.character(transcripts_groups$Sex)\n",
    "transcripts_groups$SubjectGroup <-  as.character(transcripts_groups$SubjectGroup)\n",
    "transcripts_groups$SiteOfOnset <-  as.character(transcripts_groups$SiteOfOnset)\n",
    "transcripts_groups$Race <- as.character(transcripts_groups$Race)"
   ]
  },
  {
   "cell_type": "code",
   "execution_count": null,
   "id": "ec3ce963",
   "metadata": {},
   "outputs": [],
   "source": [
    "# Filter by markers\n",
    "# it'is neccesary create boolean list of each marker to filter all missings values\n",
    "# NEFH marker filter\n",
    "NEFH_boolean_list <- !is.na(transcripts_groups$NEFH)\n",
    "all_transcriptomic_counts_and_data_portal <- all_transcriptomic_counts_and_data_portal [NEFH_boolean_list]\n",
    "transcripts_groups <- transcripts_groups[NEFH_boolean_list, ]\n",
    "\n",
    "# ISL1 marker filter\n",
    "ISL1_boolean_list <- !is.na(transcripts_groups$ISL1)\n",
    "all_transcriptomic_counts_and_data_portal <- all_transcriptomic_counts_and_data_portal [ISL1_boolean_list]\n",
    "transcripts_groups <- transcripts_groups[ISL1_boolean_list, ]\n",
    "\n",
    "# NKX6 marker filter\n",
    "NKX6_boolean_list <- !is.na(transcripts_groups$NKX6)\n",
    "all_transcriptomic_counts_and_data_portal <- all_transcriptomic_counts_and_data_portal [NKX6_boolean_list]\n",
    "transcripts_groups <- transcripts_groups[NKX6_boolean_list, ]\n",
    "\n",
    "# TUBB3 marker filter\n",
    "TUBB3_boolean_list <- !is.na(transcripts_groups$TUBB3)\n",
    "all_transcriptomic_counts_and_data_portal <- all_transcriptomic_counts_and_data_portal [TUBB3_boolean_list]\n",
    "transcripts_groups <- transcripts_groups[TUBB3_boolean_list, ]\n",
    "\n",
    "# s100b marker filter\n",
    "s100b_boolean_list <- !is.na(transcripts_groups$s100b)\n",
    "all_transcriptomic_counts_and_data_portal <- all_transcriptomic_counts_and_data_portal [s100b_boolean_list]\n",
    "transcripts_groups <- transcripts_groups[s100b_boolean_list, ]"
   ]
  },
  {
   "cell_type": "code",
   "execution_count": null,
   "id": "ea3f378f",
   "metadata": {},
   "outputs": [],
   "source": [
    "dgelist_edgeR_normalize <- DGEList(counts = as.matrix(all_transcriptomic_counts_and_data_portal), group = transcripts_groups$SubjectGroup)\n",
    "# Filter data by cpm\n",
    "keep_data<- filterByExpr(dgelist_edgeR_normalize)\n",
    "dgelist_edgeR_normalize<- dgelist_edgeR_normalize[keep_data, , keep.lib.sizes=FALSE]\n",
    "# Normalize Data\n",
    "edgeR_normalize_data <- calcNormFactors(dgelist_edgeR_normalize)\n",
    "#edgeR_normalize_data <- logcpm <- cpm(edgeR_normalize_data, log=TRUE)\n",
    "dgelist_edgeR_normalize <- DGEList(counts = as.matrix(edgeR_normalize_data), group = transcripts_groups$SubjectGroup)"
   ]
  },
  {
   "cell_type": "code",
   "execution_count": null,
   "id": "fae1a50d",
   "metadata": {},
   "outputs": [],
   "source": [
    "# plot MDS\n",
    "plotMDS(dgelist_edgeR_normalize, col=as.numeric(dgelist_edgeR_normalize$samples$group))\n",
    "legend(\"bottomleft\", as.character(unique(dgelist_edgeR_normalize$samples$group)), col=1:3, pch=20)\n",
    "# EdgeR normalization and plot MDS"
   ]
  },
  {
   "cell_type": "code",
   "execution_count": null,
   "id": "5eefa446",
   "metadata": {},
   "outputs": [],
   "source": [
    "# Calculate count per million and keep samples\n",
    "cpm_quantile_transform <- cpm(all_transcriptomic_counts_and_data_portal)\n",
    "# thresh_cpm to filter data\n",
    "thresh_cpm <- cpm_quantile_transform > 0.5\n",
    "keep_quantile_data <- rowSums(thresh_cpm) >= 2\n",
    "counts.keep_quantile_data<- all_transcriptomic_counts_and_data_portal[keep_quantile_data,]\n",
    "# Quantile normalization\n",
    "quantile_normalization_data <-normalizeQuantiles(counts.keep_quantile_data, ties=TRUE)\n",
    "# log transformation\n",
    "log_quantile_norm_data <- log1p(quantile_normalization_data)\n",
    "#created dglist to make MDS\n",
    "dgelist_quantile_data <- DGEList(counts = as.matrix(log_quantile_norm_data), group = transcripts_groups$SubjectGroup)"
   ]
  },
  {
   "cell_type": "code",
   "execution_count": null,
   "id": "0acae1f7",
   "metadata": {},
   "outputs": [],
   "source": [
    "# plot MDS\n",
    "plotMDS(dgelist_quantile_data, col=as.numeric(dgelist_quantile_data$samples$group))\n",
    "legend(\"bottomleft\", as.character(unique(dgelist_quantile_data$samples$group)), col=1:3, pch=20)\n",
    "# Quantile normalization data filter after removing the low count genes MDS"
   ]
  },
  {
   "cell_type": "code",
   "execution_count": null,
   "id": "091b624e",
   "metadata": {},
   "outputs": [],
   "source": [
    "# Diferential expression analisis\n",
    "NKX <- transcripts_groups$NEFH\n",
    "NEFH <- transcripts_groups$ISL1\n",
    "TUBB3 <- transcripts_groups$NKX6\n",
    "ISL1 <- transcripts_groups$TUBB3\n",
    "s100b <- transcripts_groups$s100b\n",
    "sex <- transcripts_groups$Sex\n",
    "race <- transcripts_groups$Race\n",
    "cases_vs_control <- factor(transcripts_groups$SubjectGroup)"
   ]
  },
  {
   "cell_type": "code",
   "execution_count": null,
   "id": "ac7bb2dd",
   "metadata": {},
   "outputs": [],
   "source": [
    "design_matrix_cases_control <- model.matrix(~0 + cases_vs_control + NKX + NEFH + TUBB3 + ISL1 + s100b + race + sex )\n",
    "\n",
    "colnames(design_matrix_cases_control) <- c('ALS', 'CTRL','NKX', 'NEFH', 'TUBB3', 'ISL1', 's100b',\n",
    "                     'race1', 'race2',\n",
    "                        'race3', 'rece4','rece5', 'sex') \n",
    "\n",
    "\n",
    "# fit data\n",
    "fit_case_vs_ctrl <- lmFit(as.matrix(log_quantile_norm_data), design_matrix_cases_control)\n",
    "# contrast case vs control data\n",
    "cont.matrix_cases_control <- makeContrasts(ALS-CTRL, levels = design_matrix_cases_control)\n",
    "fit_case_vs_ctrl <- contrasts.fit(fit_case_vs_ctrl, cont.matrix_cases_control)\n",
    "fit_case_vs_ctrl <- eBayes(fit_case_vs_ctrl)\n",
    "\n",
    "#cluster1 vs all\n",
    "DEP_SIG_ALS_case_vs_control <- topTable(fit_case_vs_ctrl, adjust = \"BH\", coef = 1,\n",
    "                                            number = length(fit_case_vs_ctrl$coefficients)) \n",
    "# # Filter by  p.adjust.val\n",
    "DEP_SIG_ALS_case_vs_control <- DEP_SIG_ALS_case_vs_control[ DEP_SIG_ALS_case_vs_control$adj.P.Val < 0.05, ]\n",
    "DEP_SIG_ALS_case_vs_control"
   ]
  },
  {
   "cell_type": "code",
   "execution_count": null,
   "id": "d0b67b11",
   "metadata": {},
   "outputs": [],
   "source": [
    "# Filter data jus for cases \n",
    "all_transcriptomic_counts_and_data_portal <- all_transcriptomic_counts_and_data_portal[transcripts_groups$SubjectGroup == 'ALS']\n",
    "transcripts_groups <- transcripts_groups[transcripts_groups$SubjectGroup == 'ALS', ]"
   ]
  },
  {
   "cell_type": "code",
   "execution_count": null,
   "id": "4d2a3d74",
   "metadata": {},
   "outputs": [],
   "source": [
    "# Calculate count per million and keep samples\n",
    "cpm_quantile_transform <- cpm(all_transcriptomic_counts_and_data_portal)\n",
    "# thresh_cpm to filter data\n",
    "thresh_cpm <- cpm_quantile_transform > 0.5\n",
    "keep_quantile_data <- rowSums(thresh_cpm) >= 2\n",
    "counts.keep_quantile_data<- all_transcriptomic_counts_and_data_portal[keep_quantile_data,]\n",
    "# Quantile normalization\n",
    "quantile_normalization_data <-normalizeQuantiles(counts.keep_quantile_data, ties=TRUE)\n",
    "# log transformation\n",
    "log_quantile_norm_data <- log1p(quantile_normalization_data)\n",
    "#created dglist to make MDS\n",
    "dgelist_quantile_data <- DGEList(counts = as.matrix(log_quantile_norm_data), group = transcripts_groups$SubjectGroup)"
   ]
  },
  {
   "cell_type": "code",
   "execution_count": null,
   "id": "21459b8d",
   "metadata": {},
   "outputs": [],
   "source": [
    "# plot MDS jus for Cases\n",
    "plotMDS(dgelist_quantile_data, col=as.numeric(dgelist_quantile_data$samples$group))\n",
    "legend(\"bottomleft\", as.character(unique(dgelist_quantile_data$samples$group)), col=1:3, pch=20)"
   ]
  },
  {
   "cell_type": "code",
   "execution_count": null,
   "id": "9c7f8fe3",
   "metadata": {},
   "outputs": [],
   "source": [
    "# remove bath effect by markers\n",
    "quantile_data_removeBatchEffects <- removeBatchEffect(log_quantile_norm_data, covariates=transcripts_groups[c(\"NEFH\", \"ISL1\", \"NKX6\", \"TUBB3\", \"s100b\")])"
   ]
  },
  {
   "cell_type": "code",
   "execution_count": null,
   "id": "df1da271",
   "metadata": {},
   "outputs": [],
   "source": [
    "# Plot MDS After generating an MDS plot, we did not observe any more heterogeneity in the data.\n",
    "plotMDS(quantile_data_removeBatchEffects)"
   ]
  },
  {
   "cell_type": "code",
   "execution_count": null,
   "id": "95fbef22",
   "metadata": {},
   "outputs": [],
   "source": [
    "heatmap_corrected_data <- heatmap.2(as.matrix(quantile_data_removeBatchEffects), dendrogram='both', distfun = function(x) dist(x, method=\"euclidean\"))"
   ]
  },
  {
   "cell_type": "code",
   "execution_count": null,
   "id": "ab9c4fcd",
   "metadata": {},
   "outputs": [],
   "source": [
    "hc <- as.hclust( heatmap_corrected_data$colDendrogram )\n",
    "clusters <- cutree(hc, k=2 )\n",
    "# clusters_corrected_data <\n",
    "transcripts_groups$clusters <- clusters"
   ]
  },
  {
   "cell_type": "code",
   "execution_count": null,
   "id": "8ad51277",
   "metadata": {},
   "outputs": [],
   "source": [
    "# Diferential expression analisis for cases\n",
    "# Declare covariantes\n",
    "NKX <- transcripts_groups$NEFH\n",
    "NEFH <- transcripts_groups$ISL1\n",
    "TUBB3 <- transcripts_groups$NKX6\n",
    "ISL1 <- transcripts_groups$TUBB3\n",
    "s100b <- transcripts_groups$s100b\n",
    "sex <- transcripts_groups$Sex\n",
    "race <- transcripts_groups$Race\n",
    "clusters <- factor(transcripts_groups$clusters)"
   ]
  },
  {
   "cell_type": "code",
   "execution_count": null,
   "id": "0a97648c",
   "metadata": {},
   "outputs": [],
   "source": [
    "design_matrix <- model.matrix(~0 + clusters + NKX + NEFH + TUBB3 + ISL1 + s100b + race + sex )\n",
    "\n",
    "colnames(design_matrix) <- c('clusters_one1', 'clusters_one2','NKX', 'NEFH', 'TUBB3', 'ISL1', 's100b',\n",
    "                     'race1', 'race2',\n",
    "                        'race3', 'rece4', 'sex') \n",
    "\n",
    "\n",
    "# fit data\n",
    "fit_case_clusters <- lmFit(as.matrix(log_quantile_norm_data), design_matrix)\n",
    "# contrast case vs control data\n",
    "cont.matrix_cluster <- makeContrasts(clusters_one1-clusters_one2, levels = design_matrix)\n",
    "fit_case_clusters <- contrasts.fit(fit_case_clusters, cont.matrix_cluster)\n",
    "fit_case_clusters <- eBayes(fit_case_clusters)\n",
    "\n",
    "#cluster1 vs all\n",
    "DEP_SIG_ALS_cluster1_vs_cluster2 <- topTable(fit_case_clusters, adjust = \"BH\", coef = 1,\n",
    "                                           number = length(fit_case_clusters$coefficients)) \n",
    "# Filter by  p.adjust.val\n",
    "DEP_SIG_ALS_cluster1_vs_cluster2 <- DEP_SIG_ALS_cluster1_vs_cluster2[ DEP_SIG_ALS_cluster1_vs_cluster2$adj.P.Val < 0.05, ]\n",
    "DEP_SIG_ALS_cluster1_vs_cluster2\n",
    "write.csv(DEP_SIG_ALS_cluster1_vs_cluster2, 'cluster1_vs_cluster2_corrected.csv') # Cluster1VsCluster2"
   ]
  }
 ],
 "metadata": {
  "kernelspec": {
   "display_name": "R",
   "language": "R",
   "name": "ir"
  },
  "language_info": {
   "codemirror_mode": "r",
   "file_extension": ".r",
   "mimetype": "text/x-r-source",
   "name": "R",
   "pygments_lexer": "r",
   "version": "4.0.5"
  }
 },
 "nbformat": 4,
 "nbformat_minor": 5
}
