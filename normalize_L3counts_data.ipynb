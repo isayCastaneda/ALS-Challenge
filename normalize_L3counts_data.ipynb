{
 "cells": [
  {
   "cell_type": "code",
   "execution_count": 1,
   "id": "0d3c5054-e568-4fc4-bf11-bb5241cfb04b",
   "metadata": {},
   "outputs": [
    {
     "name": "stderr",
     "output_type": "stream",
     "text": [
      "Loading required package: limma\n",
      "\n"
     ]
    }
   ],
   "source": [
    "# Load librarys\n",
    "library(edgeR)\n",
    "library(limma)\n",
    "library(Glimma)\n",
    "library(ggplot2)\n",
    "library(RColorBrewer)"
   ]
  },
  {
   "cell_type": "code",
   "execution_count": 2,
   "id": "5845cb87-9fbe-47fb-86cf-1023f1188caf",
   "metadata": {},
   "outputs": [],
   "source": [
    "# Reading L3 count ordered data\n",
    "allRawL3CountsData <- read.csv(\"/home/jupyter/clean_csv/raw_L3counts_data/raw_L3counts__ordered_data.csv\", row.names=1)"
   ]
  },
  {
   "cell_type": "code",
   "execution_count": 3,
   "id": "cfeab98c-47de-4fd0-82ff-c1b49302cd71",
   "metadata": {},
   "outputs": [],
   "source": [
    "# Reading groups like Sex, Ethnicity, etc\n",
    "groupsList <- read.csv(\"/home/jupyter/clean_csv/raw_L3counts_data/transcript_data_groups.csv\", row.names=1)\n",
    "sex <- factor(groupsList$Sex)\n",
    "Ethnicity <- factor(groupsList$Ethnicity)\n",
    "Race <- factor(groupsList$Race)\n",
    "SiteOnset <- factor(groupsList$SiteOnset)\n",
    "age <- factor(groupsList$Age)"
   ]
  },
  {
   "cell_type": "code",
   "execution_count": 4,
   "id": "5761a5f9-ef38-48e0-9250-0c18b6de507a",
   "metadata": {},
   "outputs": [],
   "source": [
    "#Calculate count per million and keep samples\n",
    "myCPM <- cpm(allRawL3CountsData)\n",
    "thresh <- myCPM > 0.5\n",
    "keep <- rowSums(thresh) >= 2\n",
    "counts.keep <- allRawL3CountsData[keep,]\n",
    "dge <- DGEList(counts=counts.keep)"
   ]
  },
  {
   "cell_type": "code",
   "execution_count": 85,
   "id": "9a5f90da-15db-49a8-827f-77defa18113b",
   "metadata": {},
   "outputs": [],
   "source": [
    "#plot the library size per sample\n",
    "barplot(dge$samples$lib.size, names=colnames(dge), las=2)"
   ]
  },
  {
   "cell_type": "code",
   "execution_count": 5,
   "id": "369b0a75-9df9-4751-a692-a633ddee0562",
   "metadata": {},
   "outputs": [],
   "source": [
    "# Assign normalize data\n",
    "nor.data <-normalizeQuantiles(counts.keep, ties=TRUE)\n",
    "dge <- DGEList(nor.data)\n",
    "heatmap(as.matrix(nor.data))"
   ]
  },
  {
   "cell_type": "code",
   "execution_count": 87,
   "id": "c969b015-7888-48b6-acde-bbbdd0e844ca",
   "metadata": {},
   "outputs": [],
   "source": [
    "# Write quantile normalization csv file\n",
    "write.csv(nor.data, \"/home/jupyter/clean_csv/raw_L3counts_data/quantile_normalization.csv\")"
   ]
  },
  {
   "cell_type": "code",
   "execution_count": 6,
   "id": "6ecb7a7d-ef3a-4106-afe4-0ee295aabbc3",
   "metadata": {},
   "outputs": [],
   "source": [
    "# To perform quasi-likelihood F-tests:\n",
    "design <- model.matrix(~SiteOnset + Race + sex + age)\n",
    "y <- estimateDisp(dge,design)\n",
    "fit <- glmQLFit(y,design) \n",
    "qlf <- glmQLFTest(fit,coef=2)\n",
    "qlf <- topTags(qlf, n=length(qlf$table$logFC))\n",
    "FDRFilterQLF <- qlf$table$FDR <= 0.05\n",
    "qlfWithFDRFilter <- qlf$table[FDRFilterQLF, ]\n"
   ]
  },
  {
   "cell_type": "code",
   "execution_count": 93,
   "id": "b5d71ea4-637d-43ed-b4f4-3fab33f558f9",
   "metadata": {},
   "outputs": [],
   "source": [
    "# Write quasi-likelihood F-tests with FDR > 0.05\n",
    "write.csv(qlfWithFDRFilter, \"/home/jupyter/qlfWithFDRFilter.csv\")"
   ]
  },
  {
   "cell_type": "code",
   "execution_count": 7,
   "id": "d483868f-dafb-417c-883d-7e4dd856ef24",
   "metadata": {},
   "outputs": [
    {
     "ename": "ERROR",
     "evalue": "Error in topTags(lrt, n = length(lr, t$table$logFC)): object 'lr' not found\n",
     "output_type": "error",
     "traceback": [
      "Error in topTags(lrt, n = length(lr, t$table$logFC)): object 'lr' not found\nTraceback:\n",
      "1. topTags(lrt, n = length(lr, t$table$logFC))"
     ]
    }
   ],
   "source": [
    "#To perform likelihood ratio tests:\n",
    "fit2 <- glmFit(y,design)\n",
    "lrt <- glmLRT(fit2, coef=2)\n",
    "lrt <- topTags(lrt, n=length(lr,t$table$logFC))\n",
    "FDRFilterLTR <- lrt$table$FDR <= 0.05\n",
    "lrtWithFDRFilter <- lrt$table[FDRFilterLTR, ]"
   ]
  },
  {
   "cell_type": "code",
   "execution_count": 94,
   "id": "36d08396-79bc-466e-874b-aed3fd1fd662",
   "metadata": {},
   "outputs": [],
   "source": [
    "# Writing likelihood ratio tests with FDR > 0.05\n",
    "write.csv(lrtWithFDRFilter, \"/home/jupyter/lrtWithFDRFilter.csv\")"
   ]
  },
  {
   "cell_type": "code",
   "execution_count": 8,
   "id": "8ec96dbe-371c-40a4-b006-b7b9e9a4f742",
   "metadata": {},
   "outputs": [],
   "source": [
    "# Analisys data with lima library\n",
    "# Taking groups \n",
    "sex <- factor(groupsList$Sex)\n",
    "Ethnicity <- factor(groupsList$Ethnicity)\n",
    "Race <- factor(groupsList$Race)\n",
    "SiteOnset <- factor(groupsList$SiteOnset)\n",
    "age <- factor(groupsList$Age)\n",
    "caseVscontrol = factor(groupsList$subjectGroup)"
   ]
  },
  {
   "cell_type": "code",
   "execution_count": 9,
   "id": "ce9c6c81-a73b-436d-b229-2e00aad1e384",
   "metadata": {},
   "outputs": [
    {
     "ename": "ERROR",
     "evalue": "Error in contrasts.fit(fit_ALS, cont.matrix_ALS): object 'cont.matrix_ALS' not found\n",
     "output_type": "error",
     "traceback": [
      "Error in contrasts.fit(fit_ALS, cont.matrix_ALS): object 'cont.matrix_ALS' not found\nTraceback:\n",
      "1. contrasts.fit(fit_ALS, cont.matrix_ALS)"
     ]
    }
   ],
   "source": [
    "# Design matrix whit SiteOnset cases\n",
    "design <- model.matrix(~0 + SiteOnset + Race + sex + age)\n",
    "# Is necessary change the name of the columns becase have space between letters\n",
    "colnames(design) <- c(\"SiteOnsetAxial\",\"SiteOnsetBulbar\",\"control\",\"SiteOnsetLimb\",\"SiteOnsetMultiple\", \"SiteOnsetOther\", \n",
    "                     'RaceBlackAfricanAmerican', 'RaceBlackAfricanAmericanAmericanIndianAlaskaNative', 'RaceWhite',\n",
    "                     'RaceWhiteAsian', 'RaceWhiteAmericanIndianAlaskaNative', 'sexMale', 'age2534', 'age3544', 'age4554',\n",
    "                     'age5564', 'age65') \n",
    "# Fit quantile norm data with desgin matrix\n",
    "fit_ALS <- lmFit(nor.data, design)\n",
    "# Set contrast between two groups bulbar vs control\n",
    "cont.matrix_ALS.bulbar_vs_control <- makeContrasts(SiteOnsetBulbar-control, levels = design)\n",
    "fit_ALS_bulbar_vs_control <- contrasts.fit(fit_ALS,cont.matrix_ALS)\n",
    "fit_ALS_bulbar_vs_control <- eBayes(fit_ALS_bulbar_vs_control)\n",
    "# Set contrast between two groups bulbar vs limb\n",
    "cont.matrix_ALS.bulbar_vs_limb <- makeContrasts(SiteOnsetBulbar-SiteOnsetLimb, levels = design)\n",
    "fit_ALS_bulbar_vs_limb <- contrasts.fit(fit_ALS,cont.matrix_ALS)\n",
    "fit_ALS_bulbar_vs_limb <- eBayes(fit_ALS_bulbar_vs_limb)"
   ]
  },
  {
   "cell_type": "code",
   "execution_count": null,
   "id": "29be0c99",
   "metadata": {},
   "outputs": [],
   "source": [
    "DEP_SIG_ALS_bulbar_vs_control <- topTable(fit_ALS_bulbar_vs_control, adjust = \"BH\", \n",
    "                                          number = length(fit_ALS_bulbar_vs_control$coefficients)) \n",
    "DEP_SIG_ALS_bulbar_vs_limb <- topTable(fit_ALS_bulbar_vs_limb, adjust = \"BH\", \n",
    "                                          number = length(fit_ALS_bulbar_vs_limb$coefficients)) "
   ]
  },
  {
   "cell_type": "code",
   "execution_count": null,
   "id": "25311a1b",
   "metadata": {},
   "outputs": [],
   "source": [
    "write.csv(DEP_SIG_ALS_bulbar_vs_control, 'SiteOnsetBulbar_vs_control.csv')\n",
    "write.csv(DEP_SIG_ALS_bulbar_vs_limb, 'SiteOnsetBulbar_vs_limb.csv')"
   ]
  },
  {
   "cell_type": "code",
   "execution_count": null,
   "id": "2c48db19-ef59-4d41-8793-47a2523dfc5a",
   "metadata": {},
   "outputs": [],
   "source": [
    "# design new matrix with case vs controls\n",
    "design <- model.matrix(~0 + caseVscontrol + Race + sex + age)\n",
    "# Change the name of the columns\n",
    "colnames(design) <- c(\"caseVscontrolALS\",\"caseVscontrolHealthyControl\",\"caseVscontrolNonALSMND\", \n",
    "                     'RaceBlackAfricanAmerican', 'RaceBlackAfricanAmericanAmericanIndianAlaskaNative', 'RaceWhite',\n",
    "                     'RaceWhiteAsian', 'RaceWhiteAmericanIndianAlaskaNative', 'sexMale', 'age2534', 'age3544', 'age4554',\n",
    "                     'age5564', 'age65') \n",
    "# fit data\n",
    "fit_case_control_ALS <- lmFit(nor.data, design)\n",
    "# contrast case vs control data\n",
    "cont.matrix_case_control <- makeContrasts(caseVscontrolALS-caseVscontrolHealthyControl, levels = design)\n",
    "fit_case_control_ALS <- contrasts.fit(fit_case_control_ALS, cont.matrix_case_control)\n",
    "fit_case_control_ALS <- eBayes(fit_case_control_ALS)"
   ]
  },
  {
   "cell_type": "code",
   "execution_count": null,
   "id": "f630dd74-4bb0-404f-88cb-a6befb7841c5",
   "metadata": {},
   "outputs": [],
   "source": [
    "DEP_SIG_ALS_case_vs_control <- topTable(fit_case_control_ALS, adjust = \"BH\", \n",
    "                                          number = length(fit_case_control_ALS$coefficients)) "
   ]
  },
  {
   "cell_type": "code",
   "execution_count": null,
   "id": "4f832678-77c0-4299-9e8d-7fcb198d6101",
   "metadata": {},
   "outputs": [],
   "source": [
    "write.csv(DEP_SIG_ALS_case_vs_control, 'ALS_case_vs_control.csv')"
   ]
  }
 ],
 "metadata": {
  "kernelspec": {
   "display_name": "R",
   "language": "R",
   "name": "ir"
  },
  "language_info": {
   "codemirror_mode": "r",
   "file_extension": ".r",
   "mimetype": "text/x-r-source",
   "name": "R",
   "pygments_lexer": "r",
   "version": "4.0.3"
  }
 },
 "nbformat": 4,
 "nbformat_minor": 5
}
