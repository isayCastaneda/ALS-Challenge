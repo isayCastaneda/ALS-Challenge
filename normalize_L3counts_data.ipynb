{
 "cells": [
  {
   "cell_type": "code",
   "execution_count": 1,
   "id": "0d3c5054-e568-4fc4-bf11-bb5241cfb04b",
   "metadata": {},
   "outputs": [
    {
     "name": "stderr",
     "output_type": "stream",
     "text": [
      "Loading required package: limma\n",
      "\n"
     ]
    }
   ],
   "source": [
    "library(edgeR)\n",
    "library(limma)\n",
    "library(Glimma)\n",
    "library(ggplot2)\n",
    "library(RColorBrewer)"
   ]
  },
  {
   "cell_type": "code",
   "execution_count": 82,
   "id": "5845cb87-9fbe-47fb-86cf-1023f1188caf",
   "metadata": {},
   "outputs": [],
   "source": [
    "# Reading L3 count ordered data\n",
    "allRawL3CountsData <- read.csv(\"/home/jupyter/clean_csv/raw_L3counts_data/raw_L3counts__ordered_data.csv\", row.names=1)"
   ]
  },
  {
   "cell_type": "code",
   "execution_count": 83,
   "id": "cfeab98c-47de-4fd0-82ff-c1b49302cd71",
   "metadata": {},
   "outputs": [],
   "source": [
    "# Reading groups like Sex, Ethnicity, etc\n",
    "groupsList <- read.csv(\"/home/jupyter/clean_csv/raw_L3counts_data/transcript_data_groups.csv\", row.names=1)\n",
    "sex <- factor(groupsList$Sex)\n",
    "Ethnicity <- factor(groupsList$Ethnicity)\n",
    "Race <- factor(groupsList$Race)\n",
    "SiteOnset <- factor(groupsList$SiteOnset)\n",
    "age <- factor(groupsList$Age)"
   ]
  },
  {
   "cell_type": "code",
   "execution_count": 84,
   "id": "5761a5f9-ef38-48e0-9250-0c18b6de507a",
   "metadata": {},
   "outputs": [],
   "source": [
    "#Calculate count per million and keep samples\n",
    "myCPM <- cpm(allRawL3CountsData)\n",
    "thresh <- myCPM > 0.5\n",
    "keep <- rowSums(thresh) >= 2\n",
    "counts.keep <- allRawL3CountsData[keep,]\n",
    "dge <- DGEList(counts=counts.keep)"
   ]
  },
  {
   "cell_type": "code",
   "execution_count": 85,
   "id": "9a5f90da-15db-49a8-827f-77defa18113b",
   "metadata": {},
   "outputs": [],
   "source": [
    "#plot the library size per sample\n",
    "#barplot(dge$samples$lib.size, names=colnames(dge), las=2)"
   ]
  },
  {
   "cell_type": "code",
   "execution_count": 86,
   "id": "369b0a75-9df9-4751-a692-a633ddee0562",
   "metadata": {},
   "outputs": [],
   "source": [
    "nor.data <-normalizeQuantiles(counts.keep, ties=TRUE)\n",
    "dge <- DGEList(nor.data)\n",
    "#heatmap(as.matrix(nor.data))"
   ]
  },
  {
   "cell_type": "code",
   "execution_count": 87,
   "id": "c969b015-7888-48b6-acde-bbbdd0e844ca",
   "metadata": {},
   "outputs": [],
   "source": [
    "write.csv(nor.data, \"/home/jupyter/clean_csv/raw_L3counts_data/quantile_normalization.csv\")"
   ]
  },
  {
   "cell_type": "code",
   "execution_count": 89,
   "id": "6ecb7a7d-ef3a-4106-afe4-0ee295aabbc3",
   "metadata": {},
   "outputs": [
    {
     "data": {
      "text/html": [
       "<table class=\"dataframe\">\n",
       "<caption>A data.frame: 8 × 5</caption>\n",
       "<thead>\n",
       "\t<tr><th></th><th scope=col>logFC</th><th scope=col>logCPM</th><th scope=col>F</th><th scope=col>PValue</th><th scope=col>FDR</th></tr>\n",
       "\t<tr><th></th><th scope=col>&lt;dbl&gt;</th><th scope=col>&lt;dbl&gt;</th><th scope=col>&lt;dbl&gt;</th><th scope=col>&lt;dbl&gt;</th><th scope=col>&lt;dbl&gt;</th></tr>\n",
       "</thead>\n",
       "<tbody>\n",
       "\t<tr><th scope=row>ENSG00000200680</th><td> 9.751148</td><td> 1.8792263</td><td>36.94066</td><td>9.569169e-09</td><td>0.0002382723</td></tr>\n",
       "\t<tr><th scope=row>ENSG00000234287</th><td>-4.220507</td><td>-1.3562556</td><td>30.82328</td><td>1.245414e-07</td><td>0.0011201162</td></tr>\n",
       "\t<tr><th scope=row>ENSG00000200726</th><td> 8.701960</td><td> 0.8588241</td><td>30.63560</td><td>1.349538e-07</td><td>0.0011201162</td></tr>\n",
       "\t<tr><th scope=row>ENSG00000200503</th><td>10.266705</td><td> 2.0844576</td><td>29.92843</td><td>1.827912e-07</td><td>0.0011378751</td></tr>\n",
       "\t<tr><th scope=row>ENSG00000198744</th><td>-6.870285</td><td> 1.3016574</td><td>28.01961</td><td>4.175360e-07</td><td>0.0020793293</td></tr>\n",
       "\t<tr><th scope=row>ENSG00000144451</th><td> 0.968775</td><td> 4.6602981</td><td>23.65345</td><td>2.876880e-06</td><td>0.0119390521</td></tr>\n",
       "\t<tr><th scope=row>ENSG00000167332</th><td>-5.009756</td><td>-2.7501258</td><td>21.81509</td><td>6.602643e-06</td><td>0.0234865459</td></tr>\n",
       "\t<tr><th scope=row>ENSG00000200812</th><td> 5.147884</td><td> 0.9125128</td><td>20.02739</td><td>1.497586e-05</td><td>0.0466123779</td></tr>\n",
       "</tbody>\n",
       "</table>\n"
      ],
      "text/latex": [
       "A data.frame: 8 × 5\n",
       "\\begin{tabular}{r|lllll}\n",
       "  & logFC & logCPM & F & PValue & FDR\\\\\n",
       "  & <dbl> & <dbl> & <dbl> & <dbl> & <dbl>\\\\\n",
       "\\hline\n",
       "\tENSG00000200680 &  9.751148 &  1.8792263 & 36.94066 & 9.569169e-09 & 0.0002382723\\\\\n",
       "\tENSG00000234287 & -4.220507 & -1.3562556 & 30.82328 & 1.245414e-07 & 0.0011201162\\\\\n",
       "\tENSG00000200726 &  8.701960 &  0.8588241 & 30.63560 & 1.349538e-07 & 0.0011201162\\\\\n",
       "\tENSG00000200503 & 10.266705 &  2.0844576 & 29.92843 & 1.827912e-07 & 0.0011378751\\\\\n",
       "\tENSG00000198744 & -6.870285 &  1.3016574 & 28.01961 & 4.175360e-07 & 0.0020793293\\\\\n",
       "\tENSG00000144451 &  0.968775 &  4.6602981 & 23.65345 & 2.876880e-06 & 0.0119390521\\\\\n",
       "\tENSG00000167332 & -5.009756 & -2.7501258 & 21.81509 & 6.602643e-06 & 0.0234865459\\\\\n",
       "\tENSG00000200812 &  5.147884 &  0.9125128 & 20.02739 & 1.497586e-05 & 0.0466123779\\\\\n",
       "\\end{tabular}\n"
      ],
      "text/markdown": [
       "\n",
       "A data.frame: 8 × 5\n",
       "\n",
       "| <!--/--> | logFC &lt;dbl&gt; | logCPM &lt;dbl&gt; | F &lt;dbl&gt; | PValue &lt;dbl&gt; | FDR &lt;dbl&gt; |\n",
       "|---|---|---|---|---|---|\n",
       "| ENSG00000200680 |  9.751148 |  1.8792263 | 36.94066 | 9.569169e-09 | 0.0002382723 |\n",
       "| ENSG00000234287 | -4.220507 | -1.3562556 | 30.82328 | 1.245414e-07 | 0.0011201162 |\n",
       "| ENSG00000200726 |  8.701960 |  0.8588241 | 30.63560 | 1.349538e-07 | 0.0011201162 |\n",
       "| ENSG00000200503 | 10.266705 |  2.0844576 | 29.92843 | 1.827912e-07 | 0.0011378751 |\n",
       "| ENSG00000198744 | -6.870285 |  1.3016574 | 28.01961 | 4.175360e-07 | 0.0020793293 |\n",
       "| ENSG00000144451 |  0.968775 |  4.6602981 | 23.65345 | 2.876880e-06 | 0.0119390521 |\n",
       "| ENSG00000167332 | -5.009756 | -2.7501258 | 21.81509 | 6.602643e-06 | 0.0234865459 |\n",
       "| ENSG00000200812 |  5.147884 |  0.9125128 | 20.02739 | 1.497586e-05 | 0.0466123779 |\n",
       "\n"
      ],
      "text/plain": [
       "                logFC     logCPM     F        PValue       FDR         \n",
       "ENSG00000200680  9.751148  1.8792263 36.94066 9.569169e-09 0.0002382723\n",
       "ENSG00000234287 -4.220507 -1.3562556 30.82328 1.245414e-07 0.0011201162\n",
       "ENSG00000200726  8.701960  0.8588241 30.63560 1.349538e-07 0.0011201162\n",
       "ENSG00000200503 10.266705  2.0844576 29.92843 1.827912e-07 0.0011378751\n",
       "ENSG00000198744 -6.870285  1.3016574 28.01961 4.175360e-07 0.0020793293\n",
       "ENSG00000144451  0.968775  4.6602981 23.65345 2.876880e-06 0.0119390521\n",
       "ENSG00000167332 -5.009756 -2.7501258 21.81509 6.602643e-06 0.0234865459\n",
       "ENSG00000200812  5.147884  0.9125128 20.02739 1.497586e-05 0.0466123779"
      ]
     },
     "metadata": {},
     "output_type": "display_data"
    }
   ],
   "source": [
    "# To perform quasi-likelihood F-tests:\n",
    "design <- model.matrix(~SiteOnset + Race + sex + age)\n",
    "y <- estimateDisp(dge,design)\n",
    "fit <- glmQLFit(y,design) \n",
    "qlf <- glmQLFTest(fit,coef=2)\n",
    "qlf <- topTags(qlf, n=length(qlf$table$logFC))\n",
    "FDRFilterQLF <- qlf$table$FDR <= 0.05\n",
    "qlfWithFDRFilter <- qlf$table[FDRFilterQLF, ]\n",
    "qlfWithFDRFilter\n"
   ]
  },
  {
   "cell_type": "code",
   "execution_count": 92,
   "id": "b5d71ea4-637d-43ed-b4f4-3fab33f558f9",
   "metadata": {},
   "outputs": [
    {
     "data": {
      "text/html": [
       "'/home/jovyan'"
      ],
      "text/latex": [
       "'/home/jovyan'"
      ],
      "text/markdown": [
       "'/home/jovyan'"
      ],
      "text/plain": [
       "[1] \"/home/jovyan\""
      ]
     },
     "metadata": {},
     "output_type": "display_data"
    }
   ],
   "source": [
    "getwd()"
   ]
  },
  {
   "cell_type": "code",
   "execution_count": 90,
   "id": "d483868f-dafb-417c-883d-7e4dd856ef24",
   "metadata": {},
   "outputs": [
    {
     "data": {
      "text/html": [
       "<table class=\"dataframe\">\n",
       "<caption>A data.frame: 7 × 5</caption>\n",
       "<thead>\n",
       "\t<tr><th></th><th scope=col>logFC</th><th scope=col>logCPM</th><th scope=col>LR</th><th scope=col>PValue</th><th scope=col>FDR</th></tr>\n",
       "\t<tr><th></th><th scope=col>&lt;dbl&gt;</th><th scope=col>&lt;dbl&gt;</th><th scope=col>&lt;dbl&gt;</th><th scope=col>&lt;dbl&gt;</th><th scope=col>&lt;dbl&gt;</th></tr>\n",
       "</thead>\n",
       "<tbody>\n",
       "\t<tr><th scope=row>ENSG00000200680</th><td> 9.7516096</td><td> 1.8792263</td><td>34.40955</td><td>4.465280e-09</td><td>0.0001111855</td></tr>\n",
       "\t<tr><th scope=row>ENSG00000198744</th><td>-6.8913607</td><td> 1.3016574</td><td>32.87564</td><td>9.824643e-09</td><td>0.0001223168</td></tr>\n",
       "\t<tr><th scope=row>ENSG00000200503</th><td>10.2665476</td><td> 2.0844576</td><td>30.99738</td><td>2.583767e-08</td><td>0.0002144526</td></tr>\n",
       "\t<tr><th scope=row>ENSG00000234287</th><td>-4.2329863</td><td>-1.3562556</td><td>29.39691</td><td>5.897160e-08</td><td>0.0003670982</td></tr>\n",
       "\t<tr><th scope=row>ENSG00000200726</th><td> 8.7021839</td><td> 0.8588241</td><td>28.20598</td><td>1.090673e-07</td><td>0.0005431552</td></tr>\n",
       "\t<tr><th scope=row>ENSG00000144451</th><td> 0.9688244</td><td> 4.6602981</td><td>21.37180</td><td>3.782951e-06</td><td>0.0156992456</td></tr>\n",
       "\t<tr><th scope=row>ENSG00000200812</th><td> 5.1483550</td><td> 0.9125128</td><td>19.99669</td><td>7.757619e-06</td><td>0.0275949577</td></tr>\n",
       "</tbody>\n",
       "</table>\n"
      ],
      "text/latex": [
       "A data.frame: 7 × 5\n",
       "\\begin{tabular}{r|lllll}\n",
       "  & logFC & logCPM & LR & PValue & FDR\\\\\n",
       "  & <dbl> & <dbl> & <dbl> & <dbl> & <dbl>\\\\\n",
       "\\hline\n",
       "\tENSG00000200680 &  9.7516096 &  1.8792263 & 34.40955 & 4.465280e-09 & 0.0001111855\\\\\n",
       "\tENSG00000198744 & -6.8913607 &  1.3016574 & 32.87564 & 9.824643e-09 & 0.0001223168\\\\\n",
       "\tENSG00000200503 & 10.2665476 &  2.0844576 & 30.99738 & 2.583767e-08 & 0.0002144526\\\\\n",
       "\tENSG00000234287 & -4.2329863 & -1.3562556 & 29.39691 & 5.897160e-08 & 0.0003670982\\\\\n",
       "\tENSG00000200726 &  8.7021839 &  0.8588241 & 28.20598 & 1.090673e-07 & 0.0005431552\\\\\n",
       "\tENSG00000144451 &  0.9688244 &  4.6602981 & 21.37180 & 3.782951e-06 & 0.0156992456\\\\\n",
       "\tENSG00000200812 &  5.1483550 &  0.9125128 & 19.99669 & 7.757619e-06 & 0.0275949577\\\\\n",
       "\\end{tabular}\n"
      ],
      "text/markdown": [
       "\n",
       "A data.frame: 7 × 5\n",
       "\n",
       "| <!--/--> | logFC &lt;dbl&gt; | logCPM &lt;dbl&gt; | LR &lt;dbl&gt; | PValue &lt;dbl&gt; | FDR &lt;dbl&gt; |\n",
       "|---|---|---|---|---|---|\n",
       "| ENSG00000200680 |  9.7516096 |  1.8792263 | 34.40955 | 4.465280e-09 | 0.0001111855 |\n",
       "| ENSG00000198744 | -6.8913607 |  1.3016574 | 32.87564 | 9.824643e-09 | 0.0001223168 |\n",
       "| ENSG00000200503 | 10.2665476 |  2.0844576 | 30.99738 | 2.583767e-08 | 0.0002144526 |\n",
       "| ENSG00000234287 | -4.2329863 | -1.3562556 | 29.39691 | 5.897160e-08 | 0.0003670982 |\n",
       "| ENSG00000200726 |  8.7021839 |  0.8588241 | 28.20598 | 1.090673e-07 | 0.0005431552 |\n",
       "| ENSG00000144451 |  0.9688244 |  4.6602981 | 21.37180 | 3.782951e-06 | 0.0156992456 |\n",
       "| ENSG00000200812 |  5.1483550 |  0.9125128 | 19.99669 | 7.757619e-06 | 0.0275949577 |\n",
       "\n"
      ],
      "text/plain": [
       "                logFC      logCPM     LR       PValue       FDR         \n",
       "ENSG00000200680  9.7516096  1.8792263 34.40955 4.465280e-09 0.0001111855\n",
       "ENSG00000198744 -6.8913607  1.3016574 32.87564 9.824643e-09 0.0001223168\n",
       "ENSG00000200503 10.2665476  2.0844576 30.99738 2.583767e-08 0.0002144526\n",
       "ENSG00000234287 -4.2329863 -1.3562556 29.39691 5.897160e-08 0.0003670982\n",
       "ENSG00000200726  8.7021839  0.8588241 28.20598 1.090673e-07 0.0005431552\n",
       "ENSG00000144451  0.9688244  4.6602981 21.37180 3.782951e-06 0.0156992456\n",
       "ENSG00000200812  5.1483550  0.9125128 19.99669 7.757619e-06 0.0275949577"
      ]
     },
     "metadata": {},
     "output_type": "display_data"
    }
   ],
   "source": [
    "#To perform likelihood ratio tests:\n",
    "fit2 <- glmFit(y,design)\n",
    "lrt <- glmLRT(fit2,coef=2)\n",
    "lrt <- topTags(lrt, n=length(lrt$table$logFC))\n",
    "FDRFilterLTR <- lrt$table$FDR <= 0.05\n",
    "lrtWithFDRFilter <- lrt$table[FDRFilterLTR, ]\n",
    "\n",
    "lrtWithFDRFilter"
   ]
  },
  {
   "cell_type": "code",
   "execution_count": null,
   "id": "36d08396-79bc-466e-874b-aed3fd1fd662",
   "metadata": {},
   "outputs": [],
   "source": []
  }
 ],
 "metadata": {
  "kernelspec": {
   "display_name": "R",
   "language": "R",
   "name": "ir"
  },
  "language_info": {
   "codemirror_mode": "r",
   "file_extension": ".r",
   "mimetype": "text/x-r-source",
   "name": "R",
   "pygments_lexer": "r",
   "version": "4.0.3"
  }
 },
 "nbformat": 4,
 "nbformat_minor": 5
}
